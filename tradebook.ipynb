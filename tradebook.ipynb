{
 "cells": [
  {
   "cell_type": "code",
   "execution_count": null,
   "metadata": {},
   "outputs": [],
   "source": [
    "#backtest\n",
    "state = bool\n",
    "state_temp = False\n",
    "\n",
    "for x in range(interval_2+1, graph_interval):\n",
    "    state = ma_50_result[x] > ma_200_result[x] # TRUE = LONG, FALSE = SHORT\n",
    "    if state != state_temp:\n",
    "        state_temp = state\n",
    "        if state:\n",
    "            print(\"Buy\")\n",
    "        else:\n",
    "            print(\"Sell\")\n",
    "    else:\n",
    "        print(\"No change in state\")\n"
   ]
  },
  {
   "cell_type": "code",
   "execution_count": 2,
   "metadata": {},
   "outputs": [],
   "source": [
    "import telegram.ext\n",
    "from telegram.ext import Updater, CommandHandler\n",
    "from telegram.ext import MessageHandler, Filters\n",
    "import pandas as pd\n",
    "import numpy as np\n",
    "from binance.client import Client\n",
    "import os\n",
    "import matplotlib.pyplot as plt\n",
    "import statistics\n",
    "from binance.enums import *\n",
    "from decimal import Decimal\n",
    "import datetime\n",
    "# new_trade = trade(\"BINANCE_KEY\",\"BINANCE_SECRET\")\n",
    "# new_trade.getHistory(symbol,interval)\n",
    "# binance setup\n",
    "binance_api_key = os.environ.get(\"BINANCE_KEY\")\n",
    "binance_api_secret = os.environ.get(\"BINANCE_SECRET\")\n",
    "client = Client(binance_api_key, binance_api_secret)\n",
    "# telegram setup\n",
    "\n",
    "#for kline in client.get_historical_klines_generator(\"BTCUSDT\",\"1d\",\"1 Jan, 2019\"):\n",
    "\n",
    "def backTest (ma_1_interval, ma_2_interval,interval: str):\n",
    "\n",
    "    history = client.get_historical_klines(\"BTCUSDT\",interval,\"1 Jan, 2019\")\n",
    "    for x in range(len(history)):\n",
    "        history[x][4] = float(history[x][4])\n",
    "    \n",
    "    ma_1_interval = ma_1_interval\n",
    "    ma_2_interval = ma_2_interval\n",
    "    bollinger_interval = 9\n",
    "    budget_usd = 100\n",
    "    budget_btc = 0\n",
    "    \n",
    "    max_interval = max(ma_1_interval,ma_2_interval)\n",
    "    \n",
    "    count = 0\n",
    "    \n",
    "    for x in range(len(history)):\n",
    "        count = count + 1\n",
    "        history_ma_1 = []\n",
    "        history_ma_2 = []\n",
    "        for x in range(ma_1_interval-1):\n",
    "            history_ma_1.append(float(history[count-ma_1_interval+x][4]))\n",
    "        for x in range(ma_2_interval-1):\n",
    "            history_ma_2.append(float(history[count-ma_2_interval+x][4]))\n",
    "        while count > max_interval and count < len(history)-1:\n",
    "            ma_1 = np.mean(history_ma_1)\n",
    "            ma_2 = np.mean(history_ma_2)\n",
    "            state = ma_1 > ma_2\n",
    "            #print(state)\n",
    "            if state:\n",
    "                buy_price = float(history[count][4])\n",
    "                if budget_btc == 0:\n",
    "                    budget_btc = budget_usd / buy_price\n",
    "                else:\n",
    "                    #print(\"btc\",budget_btc, \"price\", buy_price)\n",
    "                    budget_usd = 0\n",
    "            else:\n",
    "                sell_price = float(history[count][4])\n",
    "                if budget_usd == 0:\n",
    "                    budget_usd = budget_btc * sell_price\n",
    "                else:\n",
    "                    #print(\"usd\",budget_usd, \"price\", sell_price)\n",
    "                    budget_btc = 0\n",
    "            break\n",
    "    total_eff = (budget_btc * float(history[-1][4]) + budget_usd) / 100\n",
    "    #print(total_eff)\n",
    "    market_eff = (float(history[-1][4]) - float(history[0][4]))/float(history[0][4])\n",
    "    #print(market_eff)\n",
    "    #print(\"market grew by\",(market_eff)*100, \"%\")\n",
    "    bot_eff = total_eff - market_eff\n",
    "    total_budget = budget_btc * float(history[-1][4]) + budget_usd\n",
    "    #print(total_budget, bot_eff)\n",
    "    return total_budget\n",
    "\n",
    "def getKeysByValue(dictOfElements, valueToFind):\n",
    "    listOfKeys = list()\n",
    "    listOfItems = dictOfElements.items()\n",
    "    for item  in listOfItems:\n",
    "        if item[1] == valueToFind:\n",
    "            listOfKeys.append(item[0])\n",
    "    return  listOfKeys"
   ]
  },
  {
   "cell_type": "code",
   "execution_count": 10,
   "metadata": {},
   "outputs": [
    {
     "data": {
      "text/plain": [
       "192.3954154057589"
      ]
     },
     "execution_count": 10,
     "metadata": {},
     "output_type": "execute_result"
    }
   ],
   "source": [
    "backTest(5,7,\"15m\")"
   ]
  },
  {
   "cell_type": "code",
   "execution_count": 1,
   "metadata": {},
   "outputs": [
    {
     "name": "stdout",
     "output_type": "stream",
     "text": [
      "['1m', '3m', '5m']\n",
      "1\n",
      "1m\n"
     ]
    },
    {
     "ename": "NameError",
     "evalue": "name 'backTest' is not defined",
     "output_type": "error",
     "traceback": [
      "\u001b[0;31m---------------------------------------------------------------------------\u001b[0m",
      "\u001b[0;31mNameError\u001b[0m                                 Traceback (most recent call last)",
      "\u001b[0;32m<ipython-input-1-6b0d9e66a4e4>\u001b[0m in \u001b[0;36m<module>\u001b[0;34m\u001b[0m\n\u001b[1;32m     13\u001b[0m             \u001b[0mprint\u001b[0m\u001b[0;34m(\u001b[0m\u001b[0minterval\u001b[0m\u001b[0;34m)\u001b[0m\u001b[0;34m\u001b[0m\u001b[0;34m\u001b[0m\u001b[0m\n\u001b[1;32m     14\u001b[0m             \u001b[0;31m#mylist.append(backTest(i,j))\u001b[0m\u001b[0;34m\u001b[0m\u001b[0;34m\u001b[0m\u001b[0;34m\u001b[0m\u001b[0m\n\u001b[0;32m---> 15\u001b[0;31m             \u001b[0mmydict\u001b[0m\u001b[0;34m[\u001b[0m\u001b[0;34m\"ma1 - {0}, ma2 - {1}\"\u001b[0m\u001b[0;34m.\u001b[0m\u001b[0mformat\u001b[0m\u001b[0;34m(\u001b[0m\u001b[0mma1\u001b[0m\u001b[0;34m,\u001b[0m\u001b[0mma2\u001b[0m\u001b[0;34m)\u001b[0m\u001b[0;34m]\u001b[0m \u001b[0;34m=\u001b[0m \u001b[0mbackTest\u001b[0m\u001b[0;34m(\u001b[0m\u001b[0mma1\u001b[0m\u001b[0;34m,\u001b[0m\u001b[0mma2\u001b[0m\u001b[0;34m,\u001b[0m\u001b[0minterval\u001b[0m\u001b[0;34m)\u001b[0m\u001b[0;34m\u001b[0m\u001b[0;34m\u001b[0m\u001b[0m\n\u001b[0m\u001b[1;32m     16\u001b[0m             \u001b[0;31m#print(count)\u001b[0m\u001b[0;34m\u001b[0m\u001b[0;34m\u001b[0m\u001b[0;34m\u001b[0m\u001b[0m\n\u001b[1;32m     17\u001b[0m \u001b[0;34m\u001b[0m\u001b[0m\n",
      "\u001b[0;31mNameError\u001b[0m: name 'backTest' is not defined"
     ]
    }
   ],
   "source": [
    "#mylist = []\n",
    "mydict = {}\n",
    "count = 0\n",
    "intervals = ['1m','3m','5m','15m','30m','1h','2h','4h','6h','8h','1d','3d','1w','1M']\n",
    "intervals = intervals[:3]\n",
    "print(intervals)\n",
    "\n",
    "for interval in intervals:\n",
    "    for ma1 in range(5,10):\n",
    "        for ma2 in range(5,10):\n",
    "            count = count + 1\n",
    "            print(count)\n",
    "            print(interval)\n",
    "            #mylist.append(backTest(i,j))\n",
    "            mydict[\"ma1 - {0}, ma2 - {1}\".format(ma1,ma2)] = backTest(ma1,ma2,interval)\n",
    "            #print(count)\n",
    "\n",
    "maximum_value = max(mydict.values())\n",
    "maximum_key = max(mydict.keys(), key=(lambda key: mydict[key]))   \n",
    "#print(getKeysByValue(mydict, max(mydict)))\n",
    "print(maximum_value)\n",
    "print(maximum_key)\n",
    "#print(mydict)"
   ]
  },
  {
   "cell_type": "code",
   "execution_count": null,
   "metadata": {},
   "outputs": [],
   "source": []
  }
 ],
 "metadata": {
  "kernelspec": {
   "display_name": "Python 3",
   "language": "python",
   "name": "python3"
  },
  "language_info": {
   "codemirror_mode": {
    "name": "ipython",
    "version": 3
   },
   "file_extension": ".py",
   "mimetype": "text/x-python",
   "name": "python",
   "nbconvert_exporter": "python",
   "pygments_lexer": "ipython3",
   "version": "3.7.6"
  }
 },
 "nbformat": 4,
 "nbformat_minor": 2
}
