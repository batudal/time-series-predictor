{
 "cells": [
  {
   "cell_type": "code",
   "execution_count": 1,
   "metadata": {},
   "outputs": [],
   "source": [
    "import pandas as pd\n",
    "import numpy as np\n",
    "from binance.client import Client\n",
    "import os\n",
    "import matplotlib.pyplot as plt\n",
    "import statistics\n",
    "from binance.enums import *\n",
    "from decimal import Decimal\n",
    "\n",
    "# binance setup\n",
    "binance_api_key = os.environ.get(\"BINANCE_KEY\")\n",
    "binance_api_secret = os.environ.get(\"BINANCE_SECRET\")\n",
    "client = Client(binance_api_key, binance_api_secret)\n",
    "\n",
    "lists = []\n",
    "df = [{}]\n",
    "\n",
    "for kline in client.get_historical_klines_generator(\"BTCUSDT\", Client.KLINE_INTERVAL_1MINUTE, \"1 Month ago UTC\"):\n",
    "    labels = ['open time', 'open', 'high', 'low','close','volume','close time','quote asset volume',\n",
    "              'number of trades','taker buy based asset volume','taker buy based quote volume','ignore']\n",
    "    kline = np.array(kline)\n",
    "    lists.append(kline)\n",
    "\n",
    "df = pd.DataFrame(lists, columns=labels)\n",
    "\n",
    "#def display_all(df):\n",
    "    #with pd.option_context(\"display.max_rows\", 1000):\n",
    "       # with pd.option_context(\"display.max_columns\", 1000):\n",
    "          #  display(df)\n"
   ]
  },
  {
   "cell_type": "code",
   "execution_count": 2,
   "metadata": {},
   "outputs": [],
   "source": [
    "            \n",
    "os.makedirs('tmp', exist_ok=True)\n",
    "df.to_feather('tmp/df')"
   ]
  },
  {
   "cell_type": "code",
   "execution_count": 3,
   "metadata": {},
   "outputs": [],
   "source": [
    "import pandas as pd\n",
    "import numpy as np\n",
    "import os\n",
    "import matplotlib.pyplot as plt\n",
    "import statistics\n",
    "from decimal import Decimal\n",
    "df_raw = pd.read_feather('tmp/df')"
   ]
  },
  {
   "cell_type": "code",
   "execution_count": 4,
   "metadata": {},
   "outputs": [
    {
     "data": {
      "text/html": [
       "<div>\n",
       "<style scoped>\n",
       "    .dataframe tbody tr th:only-of-type {\n",
       "        vertical-align: middle;\n",
       "    }\n",
       "\n",
       "    .dataframe tbody tr th {\n",
       "        vertical-align: top;\n",
       "    }\n",
       "\n",
       "    .dataframe thead th {\n",
       "        text-align: right;\n",
       "    }\n",
       "</style>\n",
       "<table border=\"1\" class=\"dataframe\">\n",
       "  <thead>\n",
       "    <tr style=\"text-align: right;\">\n",
       "      <th></th>\n",
       "      <th>open time</th>\n",
       "      <th>open</th>\n",
       "      <th>high</th>\n",
       "      <th>low</th>\n",
       "      <th>close</th>\n",
       "      <th>volume</th>\n",
       "      <th>close time</th>\n",
       "      <th>quote asset volume</th>\n",
       "      <th>number of trades</th>\n",
       "      <th>taker buy based asset volume</th>\n",
       "      <th>taker buy based quote volume</th>\n",
       "      <th>ignore</th>\n",
       "    </tr>\n",
       "  </thead>\n",
       "  <tbody>\n",
       "    <tr>\n",
       "      <th>44222</th>\n",
       "      <td>1582575300000</td>\n",
       "      <td>9627.41000000</td>\n",
       "      <td>9628.66000000</td>\n",
       "      <td>9625.00000000</td>\n",
       "      <td>9625.00000000</td>\n",
       "      <td>24.41707200</td>\n",
       "      <td>1582575359999</td>\n",
       "      <td>235023.79735837</td>\n",
       "      <td>288</td>\n",
       "      <td>4.58945800</td>\n",
       "      <td>44178.78103030</td>\n",
       "      <td>0</td>\n",
       "    </tr>\n",
       "    <tr>\n",
       "      <th>44223</th>\n",
       "      <td>1582575360000</td>\n",
       "      <td>9625.00000000</td>\n",
       "      <td>9640.00000000</td>\n",
       "      <td>9625.00000000</td>\n",
       "      <td>9639.89000000</td>\n",
       "      <td>22.65350500</td>\n",
       "      <td>1582575419999</td>\n",
       "      <td>218130.81544039</td>\n",
       "      <td>287</td>\n",
       "      <td>11.58343700</td>\n",
       "      <td>111532.91819183</td>\n",
       "      <td>0</td>\n",
       "    </tr>\n",
       "    <tr>\n",
       "      <th>44224</th>\n",
       "      <td>1582575420000</td>\n",
       "      <td>9638.84000000</td>\n",
       "      <td>9638.84000000</td>\n",
       "      <td>9631.57000000</td>\n",
       "      <td>9633.71000000</td>\n",
       "      <td>19.64605700</td>\n",
       "      <td>1582575479999</td>\n",
       "      <td>189292.54394726</td>\n",
       "      <td>310</td>\n",
       "      <td>9.54509300</td>\n",
       "      <td>91975.71252663</td>\n",
       "      <td>0</td>\n",
       "    </tr>\n",
       "    <tr>\n",
       "      <th>44225</th>\n",
       "      <td>1582575480000</td>\n",
       "      <td>9633.89000000</td>\n",
       "      <td>9636.77000000</td>\n",
       "      <td>9629.73000000</td>\n",
       "      <td>9629.73000000</td>\n",
       "      <td>16.87461800</td>\n",
       "      <td>1582575539999</td>\n",
       "      <td>162540.73019665</td>\n",
       "      <td>300</td>\n",
       "      <td>6.47971400</td>\n",
       "      <td>62419.23536766</td>\n",
       "      <td>0</td>\n",
       "    </tr>\n",
       "    <tr>\n",
       "      <th>44226</th>\n",
       "      <td>1582575540000</td>\n",
       "      <td>9630.18000000</td>\n",
       "      <td>9632.73000000</td>\n",
       "      <td>9628.90000000</td>\n",
       "      <td>9629.26000000</td>\n",
       "      <td>6.89835900</td>\n",
       "      <td>1582575599999</td>\n",
       "      <td>66433.67419180</td>\n",
       "      <td>108</td>\n",
       "      <td>3.14633500</td>\n",
       "      <td>30301.66561536</td>\n",
       "      <td>0</td>\n",
       "    </tr>\n",
       "  </tbody>\n",
       "</table>\n",
       "</div>"
      ],
      "text/plain": [
       "           open time           open           high            low  \\\n",
       "44222  1582575300000  9627.41000000  9628.66000000  9625.00000000   \n",
       "44223  1582575360000  9625.00000000  9640.00000000  9625.00000000   \n",
       "44224  1582575420000  9638.84000000  9638.84000000  9631.57000000   \n",
       "44225  1582575480000  9633.89000000  9636.77000000  9629.73000000   \n",
       "44226  1582575540000  9630.18000000  9632.73000000  9628.90000000   \n",
       "\n",
       "               close       volume     close time quote asset volume  \\\n",
       "44222  9625.00000000  24.41707200  1582575359999    235023.79735837   \n",
       "44223  9639.89000000  22.65350500  1582575419999    218130.81544039   \n",
       "44224  9633.71000000  19.64605700  1582575479999    189292.54394726   \n",
       "44225  9629.73000000  16.87461800  1582575539999    162540.73019665   \n",
       "44226  9629.26000000   6.89835900  1582575599999     66433.67419180   \n",
       "\n",
       "      number of trades taker buy based asset volume  \\\n",
       "44222              288                   4.58945800   \n",
       "44223              287                  11.58343700   \n",
       "44224              310                   9.54509300   \n",
       "44225              300                   6.47971400   \n",
       "44226              108                   3.14633500   \n",
       "\n",
       "      taker buy based quote volume ignore  \n",
       "44222               44178.78103030      0  \n",
       "44223              111532.91819183      0  \n",
       "44224               91975.71252663      0  \n",
       "44225               62419.23536766      0  \n",
       "44226               30301.66561536      0  "
      ]
     },
     "execution_count": 4,
     "metadata": {},
     "output_type": "execute_result"
    }
   ],
   "source": [
    "df_raw.tail()"
   ]
  },
  {
   "cell_type": "code",
   "execution_count": 5,
   "metadata": {},
   "outputs": [
    {
     "data": {
      "text/plain": [
       "0.9999999785761665"
      ]
     },
     "execution_count": 5,
     "metadata": {},
     "output_type": "execute_result"
    }
   ],
   "source": [
    "from sklearn.ensemble import RandomForestRegressor, RandomForestClassifier\n",
    "from IPython.display import display\n",
    "from sklearn import metrics\n",
    "\n",
    "y = df_raw[\"close\"]\n",
    "\n",
    "m = RandomForestRegressor(n_jobs=-1)\n",
    "m.fit(df_raw,y)\n",
    "m.score(df_raw,y)"
   ]
  },
  {
   "cell_type": "code",
   "execution_count": 10,
   "metadata": {
    "scrolled": true
   },
   "outputs": [
    {
     "ename": "ModuleNotFoundError",
     "evalue": "No module named 'fastai.imports'",
     "output_type": "error",
     "traceback": [
      "\u001b[0;31m---------------------------------------------------------------------------\u001b[0m",
      "\u001b[0;31mModuleNotFoundError\u001b[0m                       Traceback (most recent call last)",
      "\u001b[0;32m<ipython-input-10-b659b92abe25>\u001b[0m in \u001b[0;36m<module>\u001b[0;34m\u001b[0m\n\u001b[0;32m----> 1\u001b[0;31m \u001b[0;32mfrom\u001b[0m \u001b[0mfastai\u001b[0m\u001b[0;34m.\u001b[0m\u001b[0mimports\u001b[0m \u001b[0;32mimport\u001b[0m \u001b[0;34m*\u001b[0m\u001b[0;34m\u001b[0m\u001b[0;34m\u001b[0m\u001b[0m\n\u001b[0m\u001b[1;32m      2\u001b[0m \u001b[0;32mfrom\u001b[0m \u001b[0mfastai\u001b[0m\u001b[0;34m.\u001b[0m\u001b[0mstructured\u001b[0m \u001b[0;32mimport\u001b[0m \u001b[0;34m*\u001b[0m\u001b[0;34m\u001b[0m\u001b[0;34m\u001b[0m\u001b[0m\n\u001b[1;32m      3\u001b[0m \u001b[0;32mfrom\u001b[0m \u001b[0mpandas_summary\u001b[0m \u001b[0;32mimport\u001b[0m \u001b[0mDataFrameSummary\u001b[0m\u001b[0;34m\u001b[0m\u001b[0;34m\u001b[0m\u001b[0m\n\u001b[1;32m      4\u001b[0m \u001b[0;34m\u001b[0m\u001b[0m\n\u001b[1;32m      5\u001b[0m \u001b[0;34m\u001b[0m\u001b[0m\n",
      "\u001b[0;31mModuleNotFoundError\u001b[0m: No module named 'fastai.imports'"
     ]
    }
   ],
   "source": [
    "from fastai.imports import *\n",
    "from fastai.structured import *\n",
    "from pandas_summary import DataFrameSummary\n",
    "\n",
    "\n",
    "df, y, nas = proc_df(df_raw, 'close')\n",
    "\n",
    "def split_vals(a,n): return a[:n].copy(), a[n:].copy()\n",
    "\n",
    "n_valid = 4000\n",
    "n_trn = len(df)-n_valid\n",
    "raw_train, raw_valid = split_vals(df_raw, n_trn)\n",
    "X_train, X_valid = split_vals(df, n_trn)\n",
    "y_train, y_valid = split_vals(y, n_trn)\n",
    "\n",
    "X_train.shape, y_train.shape, X_valid.shape"
   ]
  },
  {
   "cell_type": "code",
   "execution_count": null,
   "metadata": {},
   "outputs": [],
   "source": []
  }
 ],
 "metadata": {
  "kernelspec": {
   "display_name": "Python 3",
   "language": "python",
   "name": "python3"
  },
  "language_info": {
   "codemirror_mode": {
    "name": "ipython",
    "version": 3
   },
   "file_extension": ".py",
   "mimetype": "text/x-python",
   "name": "python",
   "nbconvert_exporter": "python",
   "pygments_lexer": "ipython3",
   "version": "3.7.6"
  }
 },
 "nbformat": 4,
 "nbformat_minor": 2
}
