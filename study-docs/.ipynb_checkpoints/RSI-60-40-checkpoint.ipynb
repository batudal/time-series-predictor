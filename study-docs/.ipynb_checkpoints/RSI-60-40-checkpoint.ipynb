{
 "cells": [
  {
   "cell_type": "code",
   "execution_count": 3,
   "metadata": {},
   "outputs": [
    {
     "name": "stdout",
     "output_type": "stream",
     "text": [
      "29\n",
      "0.005037113665889032 0.003197643475513682\n",
      "61.168940132592745\n",
      "29\n",
      "0.005037113665889032 0.003197643475513682\n",
      "61.168940132592745\n",
      "29\n",
      "0.005037113665889032 0.003197643475513682\n",
      "61.168940132592745\n"
     ]
    }
   ],
   "source": [
    "from binance.client import Client\n",
    "import os\n",
    "import telegram.ext\n",
    "from telegram.ext import Updater, CommandHandler\n",
    "from telegram.ext import MessageHandler, Filters\n",
    "from decimal import Decimal\n",
    "\n",
    "binance_api_key = os.environ.get(\"BINANCE_KEY\")\n",
    "binance_api_secret = os.environ.get(\"BINANCE_SECRET\")\n",
    "client = Client(binance_api_key, binance_api_secret)\n",
    "\n",
    "telegram_token = os.environ.get(\"TELEGRAM_TOKEN\")\n",
    "updater = Updater(telegram_token, use_context=True)\n",
    "bot = updater.bot\n",
    "job = updater.job_queue\n",
    "\n",
    "have_crypto = True\n",
    "\n",
    "def getKlines (hours):\n",
    "    history = []\n",
    "    hours = (hours * 2) + 1\n",
    "    print(hours)\n",
    "    for kline in client.get_historical_klines_generator(\"ETHUSDT\", \n",
    "                                                        Client.KLINE_INTERVAL_1HOUR, \n",
    "                                                        \"{} hours ago UTC\".format(hours)):\n",
    "        history.append(float(kline[4]))\n",
    "        \n",
    "    del history[-1]\n",
    "    return history\n",
    "\n",
    "def rsi (history, rollingdays):\n",
    "    gain = []\n",
    "    loss = []\n",
    "    for i in range(len(history)):\n",
    "        if  i >= rollingdays:\n",
    "            if history[i] - history[i-1] > 0:\n",
    "                gain.append((history[i] - history[i-1]) / history[i-1])\n",
    "            else: \n",
    "                loss.append((history[i] - history[i-1]) / history[i-1])\n",
    "    avg_gain = sum(gain) / rollingdays\n",
    "    avg_loss = abs(sum(loss) / rollingdays)\n",
    "    print(avg_gain , avg_loss)\n",
    "    return avg_gain/avg_loss         \n",
    "                \n",
    "\n",
    "def buyEth (update):\n",
    "    balance = client.get_asset_balance(asset='USDT')\n",
    "    trades = client.get_recent_trades(symbol='ETHUSDT')\n",
    "    qty = (float(balance['free']))/float(trades[0]['price'])*0.998\n",
    "    qty = '{:0.0{}f}'.format(qty, 6)\n",
    "    qty = str(Decimal('{}'.format(qty)))\n",
    "    market_price = client.get_recent_trades(symbol='ETHUSDT')\n",
    "    market_price = round(float(market_price[0]['price']),6)\n",
    "    order = client.order_market_buy(symbol='ETHUSDT', quantity=qty)\n",
    "    \n",
    "def sellEth (update):\n",
    "    balance = client.get_asset_balance(asset='ETH')\n",
    "    qty = (float(balance['free']))*0.998\n",
    "    qty = '{:0.0{}f}'.format(qty, 6)\n",
    "    qty = str(Decimal('{}'.format(qty)))\n",
    "    market_price = client.get_recent_trades(symbol='ETHUSDT')\n",
    "    market_price = round(float(market_price[0]['price']),6)\n",
    "    order = client.order_market_sell(symbol='ETHUSDT', quantity=qty)\n",
    "    \n",
    "def rsiBot (update):\n",
    "    global have_crypto\n",
    "    RSI_index = 100 - (100 / (1 + rsi(getKlines(14), 14)))\n",
    "    if RSI_index > 60:\n",
    "        if have_crypto:\n",
    "            sellEth(update)\n",
    "            updater.bot.send_message(chat_id=\"@bebelere_balon\", text= \"Selling ETH, RSI: {0}\".format(RSI_index))\n",
    "            have_crypto = False\n",
    "    elif RSI_index < 40:\n",
    "        if have_crypto == False:\n",
    "            buyEth(update)\n",
    "            updater.bot.send_message(chat_id=\"@bebelere_balon\", text= \"Buying ETH, RSI: {0}\".format(RSI_index))\n",
    "            have_crypto = True\n",
    "    else:\n",
    "        updater.bot.send_message(chat_id=\"@bebelere_balon\", text= \"No order. RSI: {0}\".format(RSI_index))\n",
    "\n",
    "updater.job_queue.run_repeating(rsiBot, 3600, first=0)\n",
    "updater.start_polling()\n",
    "updater.idle()"
   ]
  },
  {
   "cell_type": "code",
   "execution_count": 58,
   "metadata": {},
   "outputs": [
    {
     "data": {
      "text/plain": [
       "<telegram.message.Message at 0x7f64900b7950>"
      ]
     },
     "execution_count": 58,
     "metadata": {},
     "output_type": "execute_result"
    }
   ],
   "source": [
    "updater.bot.send_message(chat_id=\"@bebelere_balon\", text= \"No change.\")"
   ]
  },
  {
   "cell_type": "code",
   "execution_count": null,
   "metadata": {},
   "outputs": [],
   "source": []
  }
 ],
 "metadata": {
  "kernelspec": {
   "display_name": "Python 3",
   "language": "python",
   "name": "python3"
  },
  "language_info": {
   "codemirror_mode": {
    "name": "ipython",
    "version": 3
   },
   "file_extension": ".py",
   "mimetype": "text/x-python",
   "name": "python",
   "nbconvert_exporter": "python",
   "pygments_lexer": "ipython3",
   "version": "3.7.7"
  }
 },
 "nbformat": 4,
 "nbformat_minor": 4
}
