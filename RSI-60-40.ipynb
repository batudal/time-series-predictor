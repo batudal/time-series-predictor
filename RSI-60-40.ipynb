{
 "cells": [
  {
   "cell_type": "code",
   "execution_count": null,
   "metadata": {},
   "outputs": [],
   "source": [
    "from binance.client import Client\n",
    "import os\n",
    "import telegram.ext\n",
    "from telegram.ext import Updater, CommandHandler\n",
    "from telegram.ext import MessageHandler, Filters\n",
    "from decimal import Decimal\n",
    "\n",
    "binance_api_key = os.environ.get(\"BINANCE_KEY\")\n",
    "binance_api_secret = os.environ.get(\"BINANCE_SECRET\")\n",
    "client = Client(binance_api_key, binance_api_secret)\n",
    "\n",
    "telegram_token = os.environ.get(\"TELEGRAM_TOKEN\")\n",
    "updater = Updater(telegram_token, use_context=True)\n",
    "bot = updater.bot\n",
    "job = updater.job_queue\n",
    "\n",
    "have_crypto = True\n",
    "\n",
    "def getKlines (hours):\n",
    "    history = []\n",
    "    hours = (hours * 2) + 1\n",
    "    print(hours)\n",
    "    for kline in client.get_historical_klines_generator(\"ETHUSDT\", \n",
    "                                                        Client.KLINE_INTERVAL_1HOUR, \n",
    "                                                        \"{} hours ago UTC\".format(hours)):\n",
    "        history.append(float(kline[4]))\n",
    "        \n",
    "    del history[-1]\n",
    "    return history\n",
    "\n",
    "def rsi (history, rollingdays):\n",
    "    gain = []\n",
    "    loss = []\n",
    "    for i in range(len(history)):\n",
    "        if  i >= rollingdays:\n",
    "            if history[i] - history[i-1] > 0:\n",
    "                gain.append((history[i] - history[i-1]) / history[i-1])\n",
    "            else: \n",
    "                loss.append((history[i] - history[i-1]) / history[i-1])\n",
    "    avg_gain = sum(gain) / rollingdays\n",
    "    avg_loss = abs(sum(loss) / rollingdays)\n",
    "    print(avg_gain , avg_loss)\n",
    "    return avg_gain/avg_loss         \n",
    "                \n",
    "\n",
    "def buyEth (update):\n",
    "    balance = client.get_asset_balance(asset='USDT')\n",
    "    trades = client.get_recent_trades(symbol='ETHUSDT')\n",
    "    qty = (float(balance['free']))/float(trades[0]['price'])*0.998\n",
    "    qty = '{:0.0{}f}'.format(qty, 6)\n",
    "    qty = str(Decimal('{}'.format(qty)))\n",
    "    market_price = client.get_recent_trades(symbol='ETHUSDT')\n",
    "    market_price = round(float(market_price[0]['price']),6)\n",
    "    order = client.order_market_buy(symbol='ETHUSDT', quantity=qty)\n",
    "    \n",
    "def sellEth (update):\n",
    "    balance = client.get_asset_balance(asset='ETH')\n",
    "    qty = (float(balance['free']))*0.998\n",
    "    qty = '{:0.0{}f}'.format(qty, 6)\n",
    "    qty = str(Decimal('{}'.format(qty)))\n",
    "    market_price = client.get_recent_trades(symbol='ETHUSDT')\n",
    "    market_price = round(float(market_price[0]['price']),6)\n",
    "    order = client.order_market_sell(symbol='ETHUSDT', quantity=qty)\n",
    "    \n",
    "def rsiBot (update):\n",
    "    global have_crypto\n",
    "    RSI_index = 100 - (100 / (1 + rsi(getKlines(14), 14)))\n",
    "    if RSI_index > 60:\n",
    "        if have_crypto:\n",
    "            sellEth(update)\n",
    "            updater.bot.send_message(chat_id=\"@bebelere_balon\", text= \"Selling ETH, RSI: {0}\".format(RSI_index))\n",
    "            have_crypto = False\n",
    "    elif RSI_index < 40:\n",
    "        if have_crypto == False:\n",
    "            buyEth(update)\n",
    "            updater.bot.send_message(chat_id=\"@bebelere_balon\", text= \"Buying ETH, RSI: {0}\".format(RSI_index))\n",
    "            have_crypto = True\n",
    "    else:\n",
    "        updater.bot.send_message(chat_id=\"@bebelere_balon\", text= \"No order. RSI: {0}\".format(RSI_index))\n",
    "\n",
    "updater.job_queue.run_repeating(rsiBot, 3600, first=0)\n",
    "updater.start_polling()\n",
    "updater.idle()"
   ]
  },
  {
   "cell_type": "code",
   "execution_count": null,
   "metadata": {},
   "outputs": [],
   "source": [
    "updater.bot.send_message(chat_id=\"@bebelere_balon\", text= \"No change.\")"
   ]
  },
  {
   "cell_type": "code",
   "execution_count": 10,
   "metadata": {},
   "outputs": [
    {
     "name": "stdout",
     "output_type": "stream",
     "text": [
      "29\n",
      "0.0024725194914307557 0.0038167250168359957\n",
      "39.31345789117929\n"
     ]
    }
   ],
   "source": [
    "from binance.client import Client\n",
    "import os\n",
    "\n",
    "binance_api_key = os.environ.get(\"BINANCE_KEY\")\n",
    "binance_api_secret = os.environ.get(\"BINANCE_SECRET\")\n",
    "client = Client(binance_api_key, binance_api_secret)\n",
    "\n",
    "def getKlines (hours):\n",
    "    history = []\n",
    "    hours = (hours * 2) + 1\n",
    "    print(hours)\n",
    "    for kline in client.get_historical_klines_generator(\"ETHUSDT\", \n",
    "                                                        Client.KLINE_INTERVAL_1HOUR, \n",
    "                                                        \"{} hours ago UTC\".format(hours)):\n",
    "        history.append(float(kline[4]))\n",
    "        \n",
    "    del history[-1]\n",
    "    return history\n",
    "\n",
    "def rsi (history, rollingdays):\n",
    "    gain = []\n",
    "    loss = []\n",
    "    for i in range(len(history)):\n",
    "        if  i >= rollingdays:\n",
    "            if history[i] - history[i-1] > 0:\n",
    "                gain.append((history[i] - history[i-1]) / history[i-1])\n",
    "            else: \n",
    "                loss.append((history[i] - history[i-1]) / history[i-1])\n",
    "    avg_gain = sum(gain) / rollingdays\n",
    "    avg_loss = abs(sum(loss) / rollingdays)\n",
    "    print(avg_gain , avg_loss)\n",
    "    return avg_gain/avg_loss  \n",
    "RSI_index = 100 - (100 / (1 + rsi(getKlines(14), 14)))\n",
    "print(RSI_index)\n"
   ]
  },
  {
   "cell_type": "code",
   "execution_count": 79,
   "metadata": {},
   "outputs": [
    {
     "name": "stdout",
     "output_type": "stream",
     "text": [
      "{'symbol': 'ETHUSDT', 'orderId': 1037137524, 'orderListId': -1, 'clientOrderId': 'jAwj4f1b1ksZwQmoJdFU4q', 'transactTime': 1588805424793, 'price': '0.00000000', 'origQty': '0.49500000', 'executedQty': '0.49500000', 'cummulativeQuoteQty': '101.73240000', 'status': 'FILLED', 'timeInForce': 'GTC', 'type': 'MARKET', 'side': 'SELL', 'fills': [{'price': '205.52000000', 'qty': '0.49500000', 'commission': '0.10173240', 'commissionAsset': 'USDT', 'tradeId': 145917273}]}\n"
     ]
    }
   ],
   "source": [
    "from decimal import Decimal\n",
    "from binance.client import Client\n",
    "import os\n",
    "import math\n",
    "\n",
    "binance_api_key = os.environ.get(\"BINANCE_KEY\")\n",
    "binance_api_secret = os.environ.get(\"BINANCE_SECRET\")\n",
    "client = Client(binance_api_key, binance_api_secret)\n",
    "\n",
    "balance = client.get_asset_balance(asset='ETH')\n",
    "qty = (float(balance['free']))*0.998\n",
    "qty = '{:0.0{}f}'.format(qty, 3)\n",
    "qty = str(Decimal('{}'.format(qty)))\n",
    "order = client.order_market_sell(symbol='ETHUSDT', quantity=qty)"
   ]
  },
  {
   "cell_type": "code",
   "execution_count": 81,
   "metadata": {},
   "outputs": [
    {
     "name": "stdout",
     "output_type": "stream",
     "text": [
      "101.72856898\n",
      "trades 205.74 <class 'float'>\n",
      "0.493\n",
      "{'symbol': 'ETHUSDT', 'orderId': 1037146342, 'orderListId': -1, 'clientOrderId': 'TrzAt4dskzjKAIJ0tfhCPt', 'transactTime': 1588805534462, 'price': '0.00000000', 'origQty': '0.49300000', 'executedQty': '0.49300000', 'cummulativeQuoteQty': '101.45939780', 'status': 'FILLED', 'timeInForce': 'GTC', 'type': 'MARKET', 'side': 'BUY', 'fills': [{'price': '205.79000000', 'qty': '0.00022000', 'commission': '0.00000022', 'commissionAsset': 'ETH', 'tradeId': 145917718}, {'price': '205.80000000', 'qty': '0.49278000', 'commission': '0.00049278', 'commissionAsset': 'ETH', 'tradeId': 145917719}]}\n"
     ]
    }
   ],
   "source": [
    "from decimal import Decimal\n",
    "from binance.client import Client\n",
    "import os\n",
    "\n",
    "binance_api_key = os.environ.get(\"BINANCE_KEY\")\n",
    "binance_api_secret = os.environ.get(\"BINANCE_SECRET\")\n",
    "client = Client(binance_api_key, binance_api_secret)\n",
    "\n",
    "balance = client.get_asset_balance(asset='USDT')['free']\n",
    "balance = float(balance)\n",
    "trades = client.get_recent_trades(symbol='ETHUSDT')\n",
    "trades = float(trades[0]['price'])              \n",
    "qty = (balance)/(trades)*0.998\n",
    "qty = '{:0.0{}f}'.format(qty, 3)\n",
    "qty = str(Decimal('{}'.format(qty)))\n",
    "order = client.order_market_buy(symbol='ETHUSDT', quantity=qty)"
   ]
  },
  {
   "cell_type": "code",
   "execution_count": 5,
   "metadata": {},
   "outputs": [
    {
     "name": "stdout",
     "output_type": "stream",
     "text": [
      "{'asset': 'ETH', 'free': '0.49595056', 'locked': '0.00000000'}\n"
     ]
    }
   ],
   "source": [
    "balance = client.get_asset_balance(asset='ETH')\n",
    "print(balance)"
   ]
  },
  {
   "cell_type": "code",
   "execution_count": 73,
   "metadata": {},
   "outputs": [
    {
     "name": "stdout",
     "output_type": "stream",
     "text": [
      "0.0\n"
     ]
    }
   ],
   "source": [
    "xxx = client.get_exchange_info()\n",
    "type(xxx['symbols'])\n",
    "for i in range(len(xxx['symbols'])):\n",
    "    if xxx['symbols'][i]['symbol'] == 'ETHUSDT':\n",
    "        print(xxx['symbols'][i]['filters'][5]['stepSize'])\n"
   ]
  },
  {
   "cell_type": "code",
   "execution_count": 35,
   "metadata": {},
   "outputs": [
    {
     "name": "stdout",
     "output_type": "stream",
     "text": [
      "0.00000000\n"
     ]
    }
   ],
   "source": [
    "print(xxx['symbols'][12]['filters'][5]['stepSize'])"
   ]
  },
  {
   "cell_type": "code",
   "execution_count": null,
   "metadata": {},
   "outputs": [],
   "source": [
    "try:\n",
    "    result = client.withdraw(\n",
    "        asset='ETH',\n",
    "        address='<eth_address>',\n",
    "        amount=100)\n",
    "except BinanceAPIException as e:\n",
    "    print(e)\n",
    "except BinanceWithdrawException as e:\n",
    "    print(e)\n",
    "else:\n",
    "    print(\"Success\")"
   ]
  }
 ],
 "metadata": {
  "kernelspec": {
   "display_name": "Python 3",
   "language": "python",
   "name": "python3"
  },
  "language_info": {
   "codemirror_mode": {
    "name": "ipython",
    "version": 3
   },
   "file_extension": ".py",
   "mimetype": "text/x-python",
   "name": "python",
   "nbconvert_exporter": "python",
   "pygments_lexer": "ipython3",
   "version": "3.7.6"
  }
 },
 "nbformat": 4,
 "nbformat_minor": 4
}
