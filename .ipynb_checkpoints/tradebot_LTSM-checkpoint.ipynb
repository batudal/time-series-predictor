{
 "cells": [
  {
   "cell_type": "code",
   "execution_count": 1,
   "metadata": {},
   "outputs": [],
   "source": [
    "from __future__ import absolute_import, division, print_function, unicode_literals\n",
    "import tensorflow as tf\n",
    "\n",
    "import matplotlib as mpl\n",
    "import matplotlib.pyplot as plt\n",
    "import numpy as np\n",
    "import os\n",
    "import pandas as pd\n",
    "\n",
    "mpl.rcParams['figure.figsize'] = (8, 6)\n",
    "mpl.rcParams['axes.grid'] = False"
   ]
  },
  {
   "cell_type": "code",
   "execution_count": 26,
   "metadata": {},
   "outputs": [],
   "source": [
    "PATH = \"tmp/df_1minute_1yearago\"\n",
    "df = pd.read_feather(PATH)"
   ]
  },
  {
   "cell_type": "code",
   "execution_count": 3,
   "metadata": {},
   "outputs": [],
   "source": [
    "def univariate_data(dataset, start_index, end_index, history_size, target_size):\n",
    "  data = []\n",
    "  labels = []\n",
    "\n",
    "  start_index = start_index + history_size\n",
    "  if end_index is None:\n",
    "    end_index = len(dataset) - target_size\n",
    "\n",
    "  for i in range(start_index, end_index):\n",
    "    indices = range(i-history_size, i)\n",
    "    # Reshape data from (history_size,) to (history_size, 1)\n",
    "    data.append(np.reshape(dataset[indices], (history_size, 1)))\n",
    "    labels.append(dataset[i+target_size])\n",
    "  return np.array(data), np.array(labels)"
   ]
  },
  {
   "cell_type": "code",
   "execution_count": 27,
   "metadata": {},
   "outputs": [
    {
     "data": {
      "text/html": [
       "<div>\n",
       "<style scoped>\n",
       "    .dataframe tbody tr th:only-of-type {\n",
       "        vertical-align: middle;\n",
       "    }\n",
       "\n",
       "    .dataframe tbody tr th {\n",
       "        vertical-align: top;\n",
       "    }\n",
       "\n",
       "    .dataframe thead th {\n",
       "        text-align: right;\n",
       "    }\n",
       "</style>\n",
       "<table border=\"1\" class=\"dataframe\">\n",
       "  <thead>\n",
       "    <tr style=\"text-align: right;\">\n",
       "      <th></th>\n",
       "      <th>0</th>\n",
       "      <th>1</th>\n",
       "      <th>2</th>\n",
       "      <th>3</th>\n",
       "      <th>4</th>\n",
       "    </tr>\n",
       "  </thead>\n",
       "  <tbody>\n",
       "    <tr>\n",
       "      <th>open time</th>\n",
       "      <td>1551260520000</td>\n",
       "      <td>1551260580000</td>\n",
       "      <td>1551260640000</td>\n",
       "      <td>1551260700000</td>\n",
       "      <td>1551260760000</td>\n",
       "    </tr>\n",
       "    <tr>\n",
       "      <th>open</th>\n",
       "      <td>3822.81000000</td>\n",
       "      <td>3822.88000000</td>\n",
       "      <td>3821.86000000</td>\n",
       "      <td>3821.50000000</td>\n",
       "      <td>3822.77000000</td>\n",
       "    </tr>\n",
       "    <tr>\n",
       "      <th>high</th>\n",
       "      <td>3822.98000000</td>\n",
       "      <td>3822.90000000</td>\n",
       "      <td>3822.75000000</td>\n",
       "      <td>3823.08000000</td>\n",
       "      <td>3822.96000000</td>\n",
       "    </tr>\n",
       "    <tr>\n",
       "      <th>low</th>\n",
       "      <td>3822.02000000</td>\n",
       "      <td>3821.83000000</td>\n",
       "      <td>3821.00000000</td>\n",
       "      <td>3821.00000000</td>\n",
       "      <td>3819.33000000</td>\n",
       "    </tr>\n",
       "    <tr>\n",
       "      <th>close</th>\n",
       "      <td>3822.88000000</td>\n",
       "      <td>3821.84000000</td>\n",
       "      <td>3821.77000000</td>\n",
       "      <td>3823.00000000</td>\n",
       "      <td>3819.99000000</td>\n",
       "    </tr>\n",
       "    <tr>\n",
       "      <th>volume</th>\n",
       "      <td>10.45078000</td>\n",
       "      <td>23.87689200</td>\n",
       "      <td>14.93154600</td>\n",
       "      <td>12.13776500</td>\n",
       "      <td>17.13506200</td>\n",
       "    </tr>\n",
       "    <tr>\n",
       "      <th>close time</th>\n",
       "      <td>1551260579999</td>\n",
       "      <td>1551260639999</td>\n",
       "      <td>1551260699999</td>\n",
       "      <td>1551260759999</td>\n",
       "      <td>1551260819999</td>\n",
       "    </tr>\n",
       "    <tr>\n",
       "      <th>quote asset volume</th>\n",
       "      <td>39947.81499464</td>\n",
       "      <td>91262.67234072</td>\n",
       "      <td>57062.86173317</td>\n",
       "      <td>46395.67586780</td>\n",
       "      <td>65462.03399792</td>\n",
       "    </tr>\n",
       "    <tr>\n",
       "      <th>number of trades</th>\n",
       "      <td>68</td>\n",
       "      <td>121</td>\n",
       "      <td>114</td>\n",
       "      <td>114</td>\n",
       "      <td>99</td>\n",
       "    </tr>\n",
       "    <tr>\n",
       "      <th>taker buy based asset volume</th>\n",
       "      <td>5.20190000</td>\n",
       "      <td>4.70267900</td>\n",
       "      <td>6.21381000</td>\n",
       "      <td>8.13017200</td>\n",
       "      <td>6.64419100</td>\n",
       "    </tr>\n",
       "    <tr>\n",
       "      <th>taker buy based quote volume</th>\n",
       "      <td>19885.09261657</td>\n",
       "      <td>17976.41116384</td>\n",
       "      <td>23747.48505858</td>\n",
       "      <td>31077.08544243</td>\n",
       "      <td>25383.32904336</td>\n",
       "    </tr>\n",
       "    <tr>\n",
       "      <th>ignore</th>\n",
       "      <td>0</td>\n",
       "      <td>0</td>\n",
       "      <td>0</td>\n",
       "      <td>0</td>\n",
       "      <td>0</td>\n",
       "    </tr>\n",
       "  </tbody>\n",
       "</table>\n",
       "</div>"
      ],
      "text/plain": [
       "                                           0               1               2  \\\n",
       "open time                      1551260520000   1551260580000   1551260640000   \n",
       "open                           3822.81000000   3822.88000000   3821.86000000   \n",
       "high                           3822.98000000   3822.90000000   3822.75000000   \n",
       "low                            3822.02000000   3821.83000000   3821.00000000   \n",
       "close                          3822.88000000   3821.84000000   3821.77000000   \n",
       "volume                           10.45078000     23.87689200     14.93154600   \n",
       "close time                     1551260579999   1551260639999   1551260699999   \n",
       "quote asset volume            39947.81499464  91262.67234072  57062.86173317   \n",
       "number of trades                          68             121             114   \n",
       "taker buy based asset volume      5.20190000      4.70267900      6.21381000   \n",
       "taker buy based quote volume  19885.09261657  17976.41116384  23747.48505858   \n",
       "ignore                                     0               0               0   \n",
       "\n",
       "                                           3               4  \n",
       "open time                      1551260700000   1551260760000  \n",
       "open                           3821.50000000   3822.77000000  \n",
       "high                           3823.08000000   3822.96000000  \n",
       "low                            3821.00000000   3819.33000000  \n",
       "close                          3823.00000000   3819.99000000  \n",
       "volume                           12.13776500     17.13506200  \n",
       "close time                     1551260759999   1551260819999  \n",
       "quote asset volume            46395.67586780  65462.03399792  \n",
       "number of trades                         114              99  \n",
       "taker buy based asset volume      8.13017200      6.64419100  \n",
       "taker buy based quote volume  31077.08544243  25383.32904336  \n",
       "ignore                                     0               0  "
      ]
     },
     "execution_count": 27,
     "metadata": {},
     "output_type": "execute_result"
    }
   ],
   "source": [
    "df.head().transpose()"
   ]
  },
  {
   "cell_type": "code",
   "execution_count": 42,
   "metadata": {},
   "outputs": [
    {
     "name": "stdout",
     "output_type": "stream",
     "text": [
      "2019-02-27 12:42:00\n",
      "2020-02-27 12:55:00\n"
     ]
    }
   ],
   "source": [
    "import time\n",
    "start = df.iloc[0][0]\n",
    "end = df.iloc[-1][0]\n",
    "start = start[:-3]\n",
    "end = end[:-3]\n",
    "print(time.strftime('%Y-%m-%d %H:%M:%S', time.localtime(int(start))))\n",
    "print(time.strftime('%Y-%m-%d %H:%M:%S', time.localtime(int(end))))"
   ]
  },
  {
   "cell_type": "code",
   "execution_count": 43,
   "metadata": {},
   "outputs": [
    {
     "data": {
      "text/plain": [
       "open time                       523436\n",
       "open                            523436\n",
       "high                            523436\n",
       "low                             523436\n",
       "close                           523436\n",
       "volume                          523436\n",
       "close time                      523436\n",
       "quote asset volume              523436\n",
       "number of trades                523436\n",
       "taker buy based asset volume    523436\n",
       "taker buy based quote volume    523436\n",
       "ignore                          523436\n",
       "dtype: int64"
      ]
     },
     "execution_count": 43,
     "metadata": {},
     "output_type": "execute_result"
    }
   ],
   "source": [
    "df.count()"
   ]
  },
  {
   "cell_type": "code",
   "execution_count": null,
   "metadata": {},
   "outputs": [],
   "source": []
  }
 ],
 "metadata": {
  "kernelspec": {
   "display_name": "Python 3",
   "language": "python",
   "name": "python3"
  },
  "language_info": {
   "codemirror_mode": {
    "name": "ipython",
    "version": 3
   },
   "file_extension": ".py",
   "mimetype": "text/x-python",
   "name": "python",
   "nbconvert_exporter": "python",
   "pygments_lexer": "ipython3",
   "version": "3.7.0"
  }
 },
 "nbformat": 4,
 "nbformat_minor": 2
}
