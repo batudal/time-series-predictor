{
 "cells": [
  {
   "cell_type": "code",
   "execution_count": 12,
   "metadata": {},
   "outputs": [],
   "source": [
    "class SteelWall:\n",
    "    def __init__(self, x=0.0, z=0.0, layers=[]):\n",
    "        container_wall_baseprice = 1\n",
    "        self.x = x\n",
    "        self.z = z\n",
    "        self.layers = layers\n",
    "        self.price = round(container_wall_baseprice * x * z, 2)\n",
    "        \n",
    "class GlassWindow:\n",
    "    def __init__(self, x=1.0, z=1.0, frame_type=None, glass_type=None):\n",
    "        glass_prices = {\n",
    "            'x':10,\n",
    "            'y':20,\n",
    "            'z':30\n",
    "        }\n",
    "        frame_prices = {\n",
    "            'x':10,\n",
    "            'y':20,\n",
    "            'z':30\n",
    "        }\n",
    "        self.x = x\n",
    "        self.z = z\n",
    "        self.frame_price = frame_prices[f'{frame_type}']\n",
    "        self.glass_price = glass_prices[f'{glass_type}']\n",
    "        self.price = round(self.frame_price + self.glass_price * self.x * self.z, 2)\n",
    "        \n",
    "class Column:\n",
    "    def __init__(self, z=0.0, layers=[]):\n",
    "        column_base_price = 1\n",
    "        self.z=z\n",
    "        self.price = round(column_base_price * z, 2)\n",
    "\n",
    "class Floor:\n",
    "    def __init__(self, layers=[]):\n",
    "        self.layers = layers    "
   ]
  },
  {
   "cell_type": "code",
   "execution_count": 13,
   "metadata": {},
   "outputs": [],
   "source": [
    "mywall = SteelWall(3,2.4,['sac','panel'])"
   ]
  },
  {
   "cell_type": "code",
   "execution_count": 14,
   "metadata": {},
   "outputs": [
    {
     "data": {
      "text/plain": [
       "7.2"
      ]
     },
     "execution_count": 14,
     "metadata": {},
     "output_type": "execute_result"
    }
   ],
   "source": [
    "mywall.price"
   ]
  },
  {
   "cell_type": "code",
   "execution_count": 15,
   "metadata": {},
   "outputs": [],
   "source": [
    "zwall = GlassWindow(x=3,z=2.9, frame_type='x', glass_type='y')"
   ]
  },
  {
   "cell_type": "code",
   "execution_count": 16,
   "metadata": {},
   "outputs": [
    {
     "data": {
      "text/plain": [
       "184.0"
      ]
     },
     "execution_count": 16,
     "metadata": {},
     "output_type": "execute_result"
    }
   ],
   "source": [
    "zwall.price"
   ]
  },
  {
   "cell_type": "code",
   "execution_count": 17,
   "metadata": {},
   "outputs": [],
   "source": [
    "house = 3 * mywall.price + zwall.price"
   ]
  },
  {
   "cell_type": "code",
   "execution_count": 11,
   "metadata": {},
   "outputs": [
    {
     "data": {
      "text/plain": [
       "205.6"
      ]
     },
     "execution_count": 11,
     "metadata": {},
     "output_type": "execute_result"
    }
   ],
   "source": [
    "house"
   ]
  },
  {
   "cell_type": "code",
   "execution_count": null,
   "metadata": {},
   "outputs": [],
   "source": []
  }
 ],
 "metadata": {
  "kernelspec": {
   "display_name": "Python 3",
   "language": "python",
   "name": "python3"
  },
  "language_info": {
   "codemirror_mode": {
    "name": "ipython",
    "version": 3
   },
   "file_extension": ".py",
   "mimetype": "text/x-python",
   "name": "python",
   "nbconvert_exporter": "python",
   "pygments_lexer": "ipython3",
   "version": "3.6.10"
  }
 },
 "nbformat": 4,
 "nbformat_minor": 2
}
