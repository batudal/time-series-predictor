{
 "cells": [
  {
   "cell_type": "code",
   "execution_count": 53,
   "metadata": {},
   "outputs": [
    {
     "name": "stdout",
     "output_type": "stream",
     "text": [
      "[{\"t\":1609372800,\"v\":28988.642493531017},{\"t\":1609459200,\"v\":29354.310492680135},{\"t\":1609545600,\"v\":32031.61971248076},{\"t\":1609632000,\"v\":32939.057471683795},{\"t\":1609718400,\"v\":31930.83940605436},{\"t\":1609804800,\"v\":34070.20033180983},{\"t\":1609891200,\"v\":36850.14715350343},{\"t\":1609977600,\"v\":39241.93637401782},{\"t\":1610064000,\"v\":40771.75946402795},{\"t\":1610150400,\"v\":40388.87363752308},{\"t\":1610236800,\"v\":38474.29606929845},{\"t\":1610323200,\"v\":35603.36377377936},{\"t\":1610409600,\"v\":33879.45142976907},{\"t\":1610496000,\"v\":37320.808100849805},{\"t\":1610582400,\"v\":39192.56322801528},{\"t\":1610668800,\"v\":36732.76292548016},{\"t\":1610755200,\"v\":36206.743416714606},{\"t\":1610841600,\"v\":35774.02336857131},{\"t\":1610928000,\"v\":36642.53189467641},{\"t\":1611014400,\"v\":36072.63455672601},{\"t\":1611100800,\"v\":35553.550809646295},{\"t\":1611187200,\"v\":30818.59900858709},{\"t\":1611273600,\"v\":33004.723330040426},{\"t\":1611360000,\"v\":32057.57127381432},{\"t\":1611446400,\"v\":32293.27014680785},{\"t\":1611532800,\"v\":32368.11499830086},{\"t\":1611619200,\"v\":32571.321685764407},{\"t\":1611705600,\"v\":30438.367004209395},{\"t\":1611792000,\"v\":33459.35125206922},{\"t\":1611878400,\"v\":34318.52819983214},{\"t\":1611964800,\"v\":34258.12290596416},{\"t\":1612051200,\"v\":33108.29665129587},{\"t\":1612137600,\"v\":33543.85974350085},{\"t\":1612224000,\"v\":35524.119952273206},{\"t\":1612310400,\"v\":37451.367472916325},{\"t\":1612396800,\"v\":36924.74200585988},{\"t\":1612483200,\"v\":38123.15354014715},{\"t\":1612569600,\"v\":39271.99676818323},{\"t\":1612656000,\"v\":38904.21414938871},{\"t\":1612742400,\"v\":45981.864589684476},{\"t\":1612828800,\"v\":46506.134809077426},{\"t\":1612915200,\"v\":44886.381099679624},{\"t\":1613001600,\"v\":47812.53533389692},{\"t\":1613088000,\"v\":47482.86135240913},{\"t\":1613174400,\"v\":47067.939135262444},{\"t\":1613260800,\"v\":48747.45244155483},{\"t\":1613347200,\"v\":47984.954753679056},{\"t\":1613433600,\"v\":49175.90051592181},{\"t\":1613520000,\"v\":52138.04498768492},{\"t\":1613606400,\"v\":51649.57543629381},{\"t\":1613692800,\"v\":55776.18881251338},{\"t\":1613779200,\"v\":56134.54415202914},{\"t\":1613865600,\"v\":57487.03807408455},{\"t\":1613952000,\"v\":54092.68879988714},{\"t\":1614038400,\"v\":48548.9572135791},{\"t\":1614124800,\"v\":49652.01003172871},{\"t\":1614211200,\"v\":47209.544068730516},{\"t\":1614297600,\"v\":46243.95205410501},{\"t\":1614384000,\"v\":46319.696393610844},{\"t\":1614470400,\"v\":45119.12569768188},{\"t\":1614556800,\"v\":49768.16035012147},{\"t\":1614643200,\"v\":48401.732978524866},{\"t\":1614729600,\"v\":50698.56833524798},{\"t\":1614816000,\"v\":48515.770213777236},{\"t\":1614902400,\"v\":48915.789594568705},{\"t\":1614988800,\"v\":48905.87987030982},{\"t\":1615075200,\"v\":51282.11369865597},{\"t\":1615161600,\"v\":52307.860713183174},{\"t\":1615248000,\"v\":54696.82182220556},{\"t\":1615334400,\"v\":56128.767227455},{\"t\":1615420800,\"v\":57800.36671419076},{\"t\":1615507200,\"v\":57372.32951283427},{\"t\":1615593600,\"v\":61217.050879895614},{\"t\":1615680000,\"v\":59728.59392893374},{\"t\":1615766400,\"v\":55813.8936028549},{\"t\":1615852800,\"v\":56488.62247040071},{\"t\":1615939200,\"v\":58748.92354285633},{\"t\":1616025600,\"v\":57887.8812431903},{\"t\":1616112000,\"v\":58374.206863912295},{\"t\":1616198400,\"v\":58443.52143446477},{\"t\":1616284800,\"v\":57521.45671319987},{\"t\":1616371200,\"v\":54608.25914921329},{\"t\":1616457600,\"v\":54888.85537030697},{\"t\":1616544000,\"v\":52774.26369049241},{\"t\":1616630400,\"v\":51704.16192519879},{\"t\":1616716800,\"v\":55137.31372577932},{\"t\":1616803200,\"v\":56067.945548474745},{\"t\":1616889600,\"v\":55991.20119647779},{\"t\":1616976000,\"v\":57769.14012066299},{\"t\":1617062400,\"v\":58937.638886814275},{\"t\":1617148800,\"v\":58954.497008149716},{\"t\":1617235200,\"v\":59118.97407768802},{\"t\":1617321600,\"v\":59392.14948112517},{\"t\":1617408000,\"v\":57642.97095819078},{\"t\":1617494400,\"v\":58752.80659415484},{\"t\":1617580800,\"v\":58898.76589833386},{\"t\":1617667200,\"v\":58243.4539402529},{\"t\":1617753600,\"v\":56219.39629880624},{\"t\":1617840000,\"v\":58321.10713544663},{\"t\":1617926400,\"v\":58245.00300108353},{\"t\":1618012800,\"v\":59793.23541009381},{\"t\":1618099200,\"v\":60226.42360963432},{\"t\":1618185600,\"v\":59915.46446523154},{\"t\":1618272000,\"v\":63603.70817233695},{\"t\":1618358400,\"v\":62922.213180229075},{\"t\":1618444800,\"v\":63285.56727067338},{\"t\":1618531200,\"v\":61611.99680584272},{\"t\":1618617600,\"v\":61519.39276311564}]\n"
     ]
    },
    {
     "data": {
      "text/html": "<div>\n<style scoped>\n    .dataframe tbody tr th:only-of-type {\n        vertical-align: middle;\n    }\n\n    .dataframe tbody tr th {\n        vertical-align: top;\n    }\n\n    .dataframe thead th {\n        text-align: right;\n    }\n</style>\n<table border=\"1\" class=\"dataframe\">\n  <thead>\n    <tr style=\"text-align: right;\">\n      <th></th>\n      <th>t</th>\n      <th>v</th>\n    </tr>\n  </thead>\n  <tbody>\n    <tr>\n      <th>0</th>\n      <td>2020-12-31</td>\n      <td>28988.642494</td>\n    </tr>\n    <tr>\n      <th>1</th>\n      <td>2021-01-01</td>\n      <td>29354.310493</td>\n    </tr>\n    <tr>\n      <th>2</th>\n      <td>2021-01-02</td>\n      <td>32031.619712</td>\n    </tr>\n    <tr>\n      <th>3</th>\n      <td>2021-01-03</td>\n      <td>32939.057472</td>\n    </tr>\n    <tr>\n      <th>4</th>\n      <td>2021-01-04</td>\n      <td>31930.839406</td>\n    </tr>\n    <tr>\n      <th>...</th>\n      <td>...</td>\n      <td>...</td>\n    </tr>\n    <tr>\n      <th>103</th>\n      <td>2021-04-13</td>\n      <td>63603.708172</td>\n    </tr>\n    <tr>\n      <th>104</th>\n      <td>2021-04-14</td>\n      <td>62922.213180</td>\n    </tr>\n    <tr>\n      <th>105</th>\n      <td>2021-04-15</td>\n      <td>63285.567271</td>\n    </tr>\n    <tr>\n      <th>106</th>\n      <td>2021-04-16</td>\n      <td>61611.996806</td>\n    </tr>\n    <tr>\n      <th>107</th>\n      <td>2021-04-17</td>\n      <td>61519.392763</td>\n    </tr>\n  </tbody>\n</table>\n<p>108 rows × 2 columns</p>\n</div>",
      "text/plain": "             t             v\n0   2020-12-31  28988.642494\n1   2021-01-01  29354.310493\n2   2021-01-02  32031.619712\n3   2021-01-03  32939.057472\n4   2021-01-04  31930.839406\n..         ...           ...\n103 2021-04-13  63603.708172\n104 2021-04-14  62922.213180\n105 2021-04-15  63285.567271\n106 2021-04-16  61611.996806\n107 2021-04-17  61519.392763\n\n[108 rows x 2 columns]"
     },
     "execution_count": 53,
     "metadata": {},
     "output_type": "execute_result"
    }
   ],
   "source": [
    "import json\n",
    "import requests\n",
    "import pandas as pd\n",
    "\n",
    "\n",
    "# insert your API key here\n",
    "API_KEY = '1qw7PqyizkXgWik1pZkm1CBxRGM'\n",
    "\n",
    "# make API request\n",
    "res = requests.get('https://api.glassnode.com/v1/metrics/market/price_usd_close',\n",
    "    params={'api_key': API_KEY, 'a':'BTC', 's':1609448400, 'i':\"24h\", 'f':'JSON'})\n",
    "\n",
    "print(res.text)\n",
    "# convert to pandas dataframe\n",
    "df = pd.read_json(res.text, convert_dates=['t'])\n",
    "df"
   ]
  },
  {
   "cell_type": "code",
   "execution_count": 17,
   "metadata": {},
   "outputs": [
    {
     "data": {
      "text/plain": "numpy.ndarray"
     },
     "execution_count": 17,
     "metadata": {},
     "output_type": "execute_result"
    }
   ],
   "source": [
    "from numpy import array, hstack\n",
    "type(array(df['v']))"
   ]
  },
  {
   "cell_type": "code",
   "execution_count": 42,
   "metadata": {},
   "outputs": [
    {
     "data": {
      "text/plain": "627734"
     },
     "execution_count": 42,
     "metadata": {},
     "output_type": "execute_result"
    }
   ],
   "source": [
    "x = array(df['v'])\n",
    "x = x.reshape((len(x), 1))\n",
    "y = hstack((x,x))\n",
    "y = y[-7:,:-1]\n",
    "y = np.amax(y)\n",
    "y"
   ]
  },
  {
   "cell_type": "code",
   "execution_count": 18,
   "metadata": {},
   "outputs": [
    {
     "data": {
      "text/html": "<div>\n<style scoped>\n    .dataframe tbody tr th:only-of-type {\n        vertical-align: middle;\n    }\n\n    .dataframe tbody tr th {\n        vertical-align: top;\n    }\n\n    .dataframe thead th {\n        text-align: right;\n    }\n</style>\n<table border=\"1\" class=\"dataframe\">\n  <thead>\n    <tr style=\"text-align: right;\">\n      <th></th>\n      <th>v</th>\n    </tr>\n    <tr>\n      <th>t</th>\n      <th></th>\n    </tr>\n  </thead>\n  <tbody>\n    <tr>\n      <th>2020-12-30</th>\n      <td>3.469810e+09</td>\n    </tr>\n    <tr>\n      <th>2020-12-31</th>\n      <td>3.485250e+09</td>\n    </tr>\n    <tr>\n      <th>2021-01-01</th>\n      <td>3.501732e+09</td>\n    </tr>\n    <tr>\n      <th>2021-01-02</th>\n      <td>3.553512e+09</td>\n    </tr>\n    <tr>\n      <th>2021-01-03</th>\n      <td>3.582743e+09</td>\n    </tr>\n    <tr>\n      <th>...</th>\n      <td>...</td>\n    </tr>\n    <tr>\n      <th>2021-03-26</th>\n      <td>4.087941e+09</td>\n    </tr>\n    <tr>\n      <th>2021-03-27</th>\n      <td>4.093515e+09</td>\n    </tr>\n    <tr>\n      <th>2021-03-28</th>\n      <td>4.097805e+09</td>\n    </tr>\n    <tr>\n      <th>2021-03-29</th>\n      <td>4.099296e+09</td>\n    </tr>\n    <tr>\n      <th>2021-03-30</th>\n      <td>4.104089e+09</td>\n    </tr>\n  </tbody>\n</table>\n<p>91 rows × 1 columns</p>\n</div>",
      "text/plain": "                       v\nt                       \n2020-12-30  3.469810e+09\n2020-12-31  3.485250e+09\n2021-01-01  3.501732e+09\n2021-01-02  3.553512e+09\n2021-01-03  3.582743e+09\n...                  ...\n2021-03-26  4.087941e+09\n2021-03-27  4.093515e+09\n2021-03-28  4.097805e+09\n2021-03-29  4.099296e+09\n2021-03-30  4.104089e+09\n\n[91 rows x 1 columns]"
     },
     "execution_count": 18,
     "metadata": {},
     "output_type": "execute_result"
    }
   ],
   "source": [
    "df2 = pd.read_json(res2.text, convert_dates=['t'])\n",
    "df2 = df2.set_index('t')\n",
    "df2"
   ]
  },
  {
   "cell_type": "code",
   "execution_count": 19,
   "metadata": {},
   "outputs": [
    {
     "data": {
      "text/html": "<div>\n<style scoped>\n    .dataframe tbody tr th:only-of-type {\n        vertical-align: middle;\n    }\n\n    .dataframe tbody tr th {\n        vertical-align: top;\n    }\n\n    .dataframe thead th {\n        text-align: right;\n    }\n</style>\n<table border=\"1\" class=\"dataframe\">\n  <thead>\n    <tr style=\"text-align: right;\">\n      <th></th>\n      <th>v</th>\n      <th>v</th>\n    </tr>\n    <tr>\n      <th>t</th>\n      <th></th>\n      <th></th>\n    </tr>\n  </thead>\n  <tbody>\n    <tr>\n      <th>2020-12-30</th>\n      <td>NaN</td>\n      <td>3.469810e+09</td>\n    </tr>\n    <tr>\n      <th>2020-12-31</th>\n      <td>1.024616</td>\n      <td>3.485250e+09</td>\n    </tr>\n    <tr>\n      <th>2021-01-01</th>\n      <td>1.041846</td>\n      <td>3.501732e+09</td>\n    </tr>\n    <tr>\n      <th>2021-01-02</th>\n      <td>1.046174</td>\n      <td>3.553512e+09</td>\n    </tr>\n    <tr>\n      <th>2021-01-03</th>\n      <td>1.043684</td>\n      <td>3.582743e+09</td>\n    </tr>\n    <tr>\n      <th>...</th>\n      <td>...</td>\n      <td>...</td>\n    </tr>\n    <tr>\n      <th>2021-03-26</th>\n      <td>1.013551</td>\n      <td>4.087941e+09</td>\n    </tr>\n    <tr>\n      <th>2021-03-27</th>\n      <td>1.022534</td>\n      <td>4.093515e+09</td>\n    </tr>\n    <tr>\n      <th>2021-03-28</th>\n      <td>1.012423</td>\n      <td>4.097805e+09</td>\n    </tr>\n    <tr>\n      <th>2021-03-29</th>\n      <td>1.015045</td>\n      <td>4.099296e+09</td>\n    </tr>\n    <tr>\n      <th>2021-03-30</th>\n      <td>1.018534</td>\n      <td>4.104089e+09</td>\n    </tr>\n  </tbody>\n</table>\n<p>91 rows × 2 columns</p>\n</div>",
      "text/plain": "                   v             v\nt                                 \n2020-12-30       NaN  3.469810e+09\n2020-12-31  1.024616  3.485250e+09\n2021-01-01  1.041846  3.501732e+09\n2021-01-02  1.046174  3.553512e+09\n2021-01-03  1.043684  3.582743e+09\n...              ...           ...\n2021-03-26  1.013551  4.087941e+09\n2021-03-27  1.022534  4.093515e+09\n2021-03-28  1.012423  4.097805e+09\n2021-03-29  1.015045  4.099296e+09\n2021-03-30  1.018534  4.104089e+09\n\n[91 rows x 2 columns]"
     },
     "execution_count": 19,
     "metadata": {},
     "output_type": "execute_result"
    }
   ],
   "source": [
    "df3 = pd.concat([df, df2], axis=1)\n",
    "df3"
   ]
  },
  {
   "cell_type": "code",
   "execution_count": 21,
   "metadata": {},
   "outputs": [
    {
     "data": {
      "text/html": "<div>\n<style scoped>\n    .dataframe tbody tr th:only-of-type {\n        vertical-align: middle;\n    }\n\n    .dataframe tbody tr th {\n        vertical-align: top;\n    }\n\n    .dataframe thead th {\n        text-align: right;\n    }\n</style>\n<table border=\"1\" class=\"dataframe\">\n  <thead>\n    <tr style=\"text-align: right;\">\n      <th></th>\n      <th>sopr</th>\n      <th>cyd</th>\n    </tr>\n    <tr>\n      <th>t</th>\n      <th></th>\n      <th></th>\n    </tr>\n  </thead>\n  <tbody>\n    <tr>\n      <th>2020-12-30</th>\n      <td>NaN</td>\n      <td>3.469810e+09</td>\n    </tr>\n    <tr>\n      <th>2020-12-31</th>\n      <td>1.024616</td>\n      <td>3.485250e+09</td>\n    </tr>\n    <tr>\n      <th>2021-01-01</th>\n      <td>1.041846</td>\n      <td>3.501732e+09</td>\n    </tr>\n    <tr>\n      <th>2021-01-02</th>\n      <td>1.046174</td>\n      <td>3.553512e+09</td>\n    </tr>\n    <tr>\n      <th>2021-01-03</th>\n      <td>1.043684</td>\n      <td>3.582743e+09</td>\n    </tr>\n    <tr>\n      <th>...</th>\n      <td>...</td>\n      <td>...</td>\n    </tr>\n    <tr>\n      <th>2021-03-26</th>\n      <td>1.013551</td>\n      <td>4.087941e+09</td>\n    </tr>\n    <tr>\n      <th>2021-03-27</th>\n      <td>1.022534</td>\n      <td>4.093515e+09</td>\n    </tr>\n    <tr>\n      <th>2021-03-28</th>\n      <td>1.012423</td>\n      <td>4.097805e+09</td>\n    </tr>\n    <tr>\n      <th>2021-03-29</th>\n      <td>1.015045</td>\n      <td>4.099296e+09</td>\n    </tr>\n    <tr>\n      <th>2021-03-30</th>\n      <td>1.018534</td>\n      <td>4.104089e+09</td>\n    </tr>\n  </tbody>\n</table>\n<p>91 rows × 2 columns</p>\n</div>",
      "text/plain": "                sopr           cyd\nt                                 \n2020-12-30       NaN  3.469810e+09\n2020-12-31  1.024616  3.485250e+09\n2021-01-01  1.041846  3.501732e+09\n2021-01-02  1.046174  3.553512e+09\n2021-01-03  1.043684  3.582743e+09\n...              ...           ...\n2021-03-26  1.013551  4.087941e+09\n2021-03-27  1.022534  4.093515e+09\n2021-03-28  1.012423  4.097805e+09\n2021-03-29  1.015045  4.099296e+09\n2021-03-30  1.018534  4.104089e+09\n\n[91 rows x 2 columns]"
     },
     "execution_count": 21,
     "metadata": {},
     "output_type": "execute_result"
    }
   ],
   "source": [
    "df = df.rename(columns={\"v\" : \"sopr\"})\n",
    "df2 = df2.rename(columns={\"v\" : \"cyd\"})\n",
    "df3 = pd.concat([df,df2], axis=1)\n",
    "df3"
   ]
  },
  {
   "cell_type": "code",
   "execution_count": 23,
   "metadata": {},
   "outputs": [
    {
     "data": {
      "text/plain": "91"
     },
     "execution_count": 23,
     "metadata": {},
     "output_type": "execute_result"
    }
   ],
   "source": [
    "len(df3)"
   ]
  },
  {
   "cell_type": "code",
   "execution_count": 31,
   "metadata": {},
   "outputs": [
    {
     "data": {
      "text/plain": "[nan,\n 1.0246159036492,\n 1.04184552399922,\n 1.04617430031182,\n 1.0436836711364,\n 1.04620665770555,\n 1.03848925701724,\n 1.04509692139883,\n 1.05592484777621,\n 1.05356650733703,\n 1.04587316947423,\n 1.02484138971337,\n 1.01267081591466,\n 1.01791289986539,\n 1.01823945161233,\n 1.03074978884148,\n 1.01906209316235,\n 1.01222630171767,\n 1.01024532018479,\n 1.01877311664356,\n 1.01313344118677,\n 1.00551075129362,\n 1.00152238603428,\n 1.00225166132296,\n 1.00559276600052,\n 1.0036150687946,\n 1.00636837432508,\n 1.00272504320095,\n 1.01988734497452,\n 1.01338259798317,\n 1.02367784707424,\n 1.0080324432085,\n 1.00973193057779,\n 1.0066857554919,\n 1.01465069015152,\n 1.01297318093272,\n 1.0184238631951401,\n 1.02607160442269,\n 1.01459971784315,\n 1.01305248611027,\n 1.02819102693271,\n 1.03381803057587,\n 1.02835399955782,\n 1.02064985188279,\n 1.02319369524044,\n 1.01465860826937,\n 1.01067845878316,\n 1.02486059445129,\n 1.01342162181816,\n 1.02699647153924,\n 1.02778429058363,\n 1.0407518124524,\n 1.03097025574227,\n 1.02312733260428,\n 1.01896560598847,\n 1.02492574928533,\n 1.02201252893324,\n 1.01577928199743,\n 1.0237105499103,\n 0.9969291916668511,\n 1.00338271252115,\n 1.01522641599799,\n 1.0155718626635,\n 1.01221344367697,\n 1.01105007845068,\n 1.00981375465389,\n 1.00666502790428,\n 1.00575165995554,\n 1.01575909197891,\n 1.01674583966397,\n 1.02075760555809,\n 1.03415767306151,\n 1.03174070656315,\n 1.02651229260326,\n 1.02358245158892,\n 1.01452671814451,\n 1.02339905472182,\n 1.01950841222995,\n 1.01426418692998,\n 1.01263333285607,\n 1.01516082424846,\n 1.01200858551658,\n 1.01687573832885,\n 1.01857572565777,\n 1.01532899773602,\n 1.01404456218249,\n 1.01355123336006,\n 1.02253443844908,\n 1.01242273170626,\n 1.01504497238139,\n 1.01853371031239]"
     },
     "execution_count": 31,
     "metadata": {},
     "output_type": "execute_result"
    }
   ],
   "source": [
    "result = []\n",
    "for d in df3['sopr']:\n",
    "    result.append(d)\n",
    "\n",
    "result"
   ]
  },
  {
   "cell_type": "code",
   "execution_count": 6,
   "metadata": {},
   "outputs": [
    {
     "data": {
      "text/plain": "1618347321.380968"
     },
     "execution_count": 6,
     "metadata": {},
     "output_type": "execute_result"
    }
   ],
   "source": [
    "from datetime import datetime\n",
    "\n",
    "now = datetime.now().timestamp()\n",
    "\n",
    "now\n"
   ]
  },
  {
   "cell_type": "code",
   "execution_count": 7,
   "metadata": {},
   "outputs": [],
   "source": [
    "!python update.py"
   ]
  },
  {
   "cell_type": "code",
   "execution_count": 3,
   "metadata": {},
   "outputs": [],
   "source": [
    "import numpy as np\n",
    "a = np.array([[1],[2],[3]])\n",
    "b = np.array([[4],[5],[6]])\n",
    "x = np.hstack((a,b))"
   ]
  },
  {
   "cell_type": "code",
   "execution_count": 4,
   "metadata": {},
   "outputs": [
    {
     "data": {
      "text/plain": "3"
     },
     "execution_count": 4,
     "metadata": {},
     "output_type": "execute_result"
    }
   ],
   "source": [
    "len(x)"
   ]
  },
  {
   "cell_type": "code",
   "execution_count": 6,
   "metadata": {},
   "outputs": [],
   "source": [
    "num_points = np.atleast_2d(x).shape[1]\n"
   ]
  },
  {
   "cell_type": "code",
   "execution_count": 7,
   "metadata": {},
   "outputs": [
    {
     "data": {
      "text/plain": "2"
     },
     "execution_count": 7,
     "metadata": {},
     "output_type": "execute_result"
    }
   ],
   "source": [
    "num_points"
   ]
  },
  {
   "cell_type": "code",
   "execution_count": 8,
   "metadata": {},
   "outputs": [],
   "source": [
    "metrics = ['addresses/new_non_zero_count', 'addresses/active_count', \n",
    "           'addresses/sending_count', 'addresses/receiving_count', 'addresses/count',\n",
    "           'blockchain/block_height', 'blockchain/block_count', 'blockchain/block_interval_mean',\n",
    "           'blockchain/block_interval_median', 'blockchain/block_size_sum', 'blockchain/block_size_mean',\n",
    "           'fees/volume_sum', 'fees/volume_mean', 'market/price_drawdown_relative', 'market/marketcap_usd',\n",
    "           'supply/current', 'transactions/count', 'transactions/rate',\n",
    "           'transactions/size_sum', 'transactions/size_mean', 'transactions/transfers_volume_sum',\n",
    "           'transactions/transfers_volume_mean', 'transactions/transfers_volume_median', 'blockchain/utxo_created_count']"
   ]
  },
  {
   "cell_type": "code",
   "execution_count": 9,
   "metadata": {},
   "outputs": [
    {
     "data": {
      "text/plain": "24"
     },
     "execution_count": 9,
     "metadata": {},
     "output_type": "execute_result"
    }
   ],
   "source": [
    "len(metrics)"
   ]
  },
  {
   "cell_type": "code",
   "execution_count": 3,
   "metadata": {},
   "outputs": [
    {
     "name": "stdout",
     "output_type": "stream",
     "text": [
      "addresses/new_non_zero_count\n",
      "addresses/active_count\n",
      "addresses/sending_count\n",
      "addresses/receiving_count\n",
      "addresses/count\n",
      "blockchain/block_height\n",
      "blockchain/block_count\n",
      "blockchain/block_interval_mean\n",
      "blockchain/block_interval_median\n",
      "blockchain/block_size_sum\n",
      "blockchain/block_size_mean\n",
      "fees/volume_sum\n",
      "fees/volume_mean\n",
      "market/price_drawdown_relative\n",
      "market/marketcap_usd\n",
      "supply/current\n",
      "transactions/count\n",
      "transactions/rate\n",
      "transactions/size_sum\n",
      "transactions/size_mean\n",
      "transactions/transfers_volume_sum\n",
      "transactions/transfers_volume_mean\n",
      "transactions/transfers_volume_median\n",
      "blockchain/utxo_created_count\n",
      "market/price_usd_close\n",
      "[[28988.64249353]\n",
      " [29354.31049268]\n",
      " [32031.61971248]\n",
      " [32939.05747168]\n",
      " [31930.83940605]\n",
      " [34070.20033181]\n",
      " [36850.1471535 ]\n",
      " [39241.93637402]\n",
      " [40771.75946403]\n",
      " [40388.87363752]\n",
      " [38474.2960693 ]\n",
      " [35603.36377378]\n",
      " [33879.45142977]\n",
      " [37320.80810085]\n",
      " [39192.56322802]\n",
      " [36732.76292548]\n",
      " [36206.74341671]\n",
      " [35774.02336857]\n",
      " [36642.53189468]\n",
      " [36072.63455673]\n",
      " [35553.55080965]\n",
      " [30818.59900859]\n",
      " [33004.72333004]\n",
      " [32057.57127381]\n",
      " [32293.27014681]\n",
      " [32368.1149983 ]\n",
      " [32571.32168576]\n",
      " [30438.36700421]\n",
      " [33459.35125207]\n",
      " [34318.52819983]\n",
      " [34258.12290596]\n",
      " [33108.2966513 ]\n",
      " [33543.8597435 ]\n",
      " [35524.11995227]\n",
      " [37451.36747292]\n",
      " [36924.74200586]\n",
      " [38123.15354015]\n",
      " [39271.99676818]\n",
      " [38904.21414939]\n",
      " [45981.86458968]\n",
      " [46506.13480908]\n",
      " [44886.38109968]\n",
      " [47812.5353339 ]\n",
      " [47482.86135241]\n",
      " [47067.93913526]\n",
      " [48747.45244155]\n",
      " [47984.95475368]\n",
      " [49175.90051592]\n",
      " [52138.04498768]\n",
      " [51649.57543629]\n",
      " [55776.18881251]\n",
      " [56134.54415203]\n",
      " [57487.03807408]\n",
      " [54092.68879989]\n",
      " [48548.95721358]\n",
      " [49652.01003173]\n",
      " [47209.54406873]\n",
      " [46243.95205411]\n",
      " [46319.69639361]\n",
      " [45119.12569768]\n",
      " [49768.16035012]\n",
      " [48401.73297852]\n",
      " [50698.56833525]\n",
      " [48515.77021378]\n",
      " [48915.78959457]\n",
      " [48905.87987031]\n",
      " [51282.11369866]\n",
      " [52307.86071318]\n",
      " [54696.82182221]\n",
      " [56128.76722745]\n",
      " [57800.36671419]\n",
      " [57372.32951283]\n",
      " [61217.0508799 ]\n",
      " [59728.59392893]\n",
      " [55813.89360285]\n",
      " [56488.6224704 ]\n",
      " [58748.92354286]\n",
      " [57887.88124319]\n",
      " [58374.20686391]\n",
      " [58443.52143446]\n",
      " [57521.4567132 ]\n",
      " [54608.25914921]\n",
      " [54888.85537031]\n",
      " [52774.26369049]\n",
      " [51704.1619252 ]\n",
      " [55137.31372578]\n",
      " [56067.94554847]\n",
      " [55991.20119648]\n",
      " [57769.14012066]\n",
      " [58937.63888681]\n",
      " [58954.49700815]\n",
      " [59118.97407769]\n",
      " [59392.14948113]\n",
      " [57642.97095819]\n",
      " [58752.80659415]\n",
      " [58898.76589833]\n",
      " [58243.45394025]\n",
      " [56219.39629881]\n",
      " [58321.10713545]\n",
      " [58245.00300108]\n",
      " [59793.23541009]\n",
      " [60226.42360963]\n",
      " [59915.46446523]\n",
      " [63603.70817234]\n",
      " [62922.21318023]\n",
      " [63285.56727067]\n",
      " [61611.99680584]\n",
      " [60803.84653164]]\n",
      "[[60337.617]]\n",
      "[[60337.617]]\n"
     ]
    }
   ],
   "source": [
    "import predict\n",
    "\n",
    "print(predict.predict(30,5000))"
   ]
  },
  {
   "cell_type": "code",
   "execution_count": null,
   "metadata": {},
   "outputs": [],
   "source": []
  }
 ],
 "metadata": {
  "kernelspec": {
   "display_name": "Python 3.8.8 64-bit ('glassnode': conda)",
   "name": "python388jvsc74a57bd061ba220980f9bb9f45cb5f5d319f34c0b826a73dfe6507868e5e75dda3c88ef6"
  },
  "language_info": {
   "name": "python",
   "version": ""
  },
  "metadata": {
   "interpreter": {
    "hash": "61ba220980f9bb9f45cb5f5d319f34c0b826a73dfe6507868e5e75dda3c88ef6"
   }
  },
  "orig_nbformat": 2
 },
 "nbformat": 4,
 "nbformat_minor": 2
}